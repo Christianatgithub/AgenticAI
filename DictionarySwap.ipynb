{
  "nbformat": 4,
  "nbformat_minor": 0,
  "metadata": {
    "colab": {
      "provenance": [],
      "authorship_tag": "ABX9TyOwwbw+Kug0sSRPm/EkVSdl",
      "include_colab_link": true
    },
    "kernelspec": {
      "name": "python3",
      "display_name": "Python 3"
    },
    "language_info": {
      "name": "python"
    }
  },
  "cells": [
    {
      "cell_type": "markdown",
      "metadata": {
        "id": "view-in-github",
        "colab_type": "text"
      },
      "source": [
        "<a href=\"https://colab.research.google.com/github/Christianatgithub/AgenticAI/blob/main/DictionarySwap.ipynb\" target=\"_parent\"><img src=\"https://colab.research.google.com/assets/colab-badge.svg\" alt=\"Open In Colab\"/></a>"
      ]
    },
    {
      "cell_type": "code",
      "execution_count": 1,
      "metadata": {
        "colab": {
          "base_uri": "https://localhost:8080/"
        },
        "id": "fPQzYUHvFYUm",
        "outputId": "f05620f7-af3f-45ea-a280-f3ca1561f7e9"
      },
      "outputs": [
        {
          "output_type": "stream",
          "name": "stdout",
          "text": [
            "\u001b[2K     \u001b[90m━━━━━━━━━━━━━━━━━━━━━━━━━━━━━━━━━━━━━━━━\u001b[0m \u001b[32m41.6/41.6 kB\u001b[0m \u001b[31m2.2 MB/s\u001b[0m eta \u001b[36m0:00:00\u001b[0m\n",
            "\u001b[2K   \u001b[90m━━━━━━━━━━━━━━━━━━━━━━━━━━━━━━━━━━━━━━━━\u001b[0m \u001b[32m9.1/9.1 MB\u001b[0m \u001b[31m61.7 MB/s\u001b[0m eta \u001b[36m0:00:00\u001b[0m\n",
            "\u001b[2K   \u001b[90m━━━━━━━━━━━━━━━━━━━━━━━━━━━━━━━━━━━━━━━━\u001b[0m \u001b[32m278.4/278.4 kB\u001b[0m \u001b[31m23.0 MB/s\u001b[0m eta \u001b[36m0:00:00\u001b[0m\n",
            "\u001b[?25hPython: 3.12.11\n",
            "LiteLLM: 1.77.1\n"
          ]
        }
      ],
      "source": [
        "!pip -q install --upgrade litellm\n",
        "\n",
        "import sys, importlib.metadata\n",
        "\n",
        "print(\"Python:\", sys.version.split()[0])\n",
        "print(\"LiteLLM:\", importlib.metadata.version(\"litellm\"))\n"
      ]
    },
    {
      "cell_type": "code",
      "source": [
        "from google.colab import userdata\n",
        "PROVIDER = \"gemini\"  # or \"groq\" or \"openai\"\n",
        "\n",
        "if PROVIDER == \"gemini\":\n",
        "    api_key = userdata.get(\"GEMINI_API_KEY\")\n",
        "    model = \"gemini/gemini-1.5-flash\"\n",
        "elif PROVIDER == \"groq\":\n",
        "    api_key = userdata.get(\"GROQ_API_KEY\")\n",
        "    model = \"groq/llama-3.1-8b-instant\"\n",
        "elif PROVIDER == \"openai\":\n",
        "    api_key = userdata.get(\"OPENAI_API_KEY\")\n",
        "    model = \"gpt-4o-mini\"\n",
        "\n",
        "def chat(msg):\n",
        "    from litellm import completion\n",
        "    return completion(\n",
        "        model=model,\n",
        "        messages=[{\"role\":\"user\",\"content\":msg}],\n",
        "        api_key=api_key\n",
        "    ).choices[0].message[\"content\"]"
      ],
      "metadata": {
        "id": "lYEzKKx_Wzqq"
      },
      "execution_count": 3,
      "outputs": []
    },
    {
      "cell_type": "code",
      "source": [
        "from litellm import completion\n",
        "from typing import List, Dict\n",
        "from google.colab import userdata\n",
        "\n",
        "api_key = userdata.get(\"GEMINI_API_KEY\")\n",
        "\n",
        "def generate_response(messages: List[Dict], api_key: str) -> str:\n",
        "    \"\"\"Call LLM to get response\"\"\"\n",
        "    response = completion(\n",
        "        model=\"gemini/gemini-1.5-flash\",\n",
        "        messages=messages,\n",
        "        max_tokens=1024,\n",
        "        api_key=api_key\n",
        "    )\n",
        "    return response.choices[0].message.content\n",
        "\n",
        "\n",
        "messages = [\n",
        "    {\"role\": \"system\", \"content\": \"You are an expert software engineer that prefers functional programming.\"},\n",
        "    {\"role\": \"user\", \"content\": \"Write a function to swap the keys and values in a dictionary.\"}\n",
        "]\n",
        "\n",
        "response = generate_response(messages, api_key)\n",
        "print(response)"
      ],
      "metadata": {
        "colab": {
          "base_uri": "https://localhost:8080/"
        },
        "id": "wYdgIJRwHNkr",
        "outputId": "9a49935d-89ed-4e7f-cfda-5c1675e5a654"
      },
      "execution_count": 5,
      "outputs": [
        {
          "output_type": "stream",
          "name": "stdout",
          "text": [
            "The straightforward approach to swapping keys and values in a dictionary might seem to be a simple loop.  However, this has several potential problems:\n",
            "\n",
            "1. **Duplicate Values:** If the original dictionary has duplicate values, the resulting swapped dictionary will lose data because keys must be unique.  A simple loop won't handle this gracefully.\n",
            "2. **Immutability:**  Modifying dictionaries in place can lead to unexpected side effects and makes the code harder to reason about, especially in concurrent environments.  A functional approach promotes immutability.\n",
            "3. **Error Handling:**  What happens if the values aren't hashable (e.g., lists or other mutable objects)?  Robust code should handle this gracefully.\n",
            "\n",
            "\n",
            "Here's a Python function that addresses these concerns using a functional approach, leveraging the power of `dict.items()` and `zip`, and handles potential errors:\n",
            "\n",
            "\n",
            "```python\n",
            "from typing import Dict, Any, Tuple, Union\n",
            "\n",
            "def swap_dict(input_dict: Dict[Any, Any]) -> Union[Dict[Any, Any], None]:\n",
            "    \"\"\"Swaps keys and values in a dictionary.\n",
            "\n",
            "    Handles potential errors:\n",
            "    - Duplicate values: Raises a ValueError if the input dictionary contains duplicate values.\n",
            "    - Unhashable values: Raises a TypeError if a value is not hashable.\n",
            "\n",
            "    Args:\n",
            "        input_dict: The dictionary to swap.\n",
            "\n",
            "    Returns:\n",
            "        A new dictionary with keys and values swapped, or None if an error occurs.\n",
            "    \"\"\"\n",
            "    try:\n",
            "        items = list(input_dict.items())  # Convert to list for easier error checking\n",
            "        if len(items) != len(set(item[1] for item in items)):\n",
            "            raise ValueError(\"Dictionary contains duplicate values. Cannot swap keys and values.\")\n",
            "        \n",
            "        # Using zip to elegantly create the swapped pairs.  Error handling built-in to zip.\n",
            "        return dict(zip(input_dict.values(), input_dict.keys()))\n",
            "    except TypeError as e:\n",
            "        print(f\"Error: Values in the dictionary must be hashable. {e}\")\n",
            "        return None\n",
            "    except ValueError as e:\n",
            "        print(f\"Error: {e}\")\n",
            "        return None\n",
            "\n",
            "\n",
            "\n",
            "#Example Usage\n",
            "my_dict = {\"a\": 1, \"b\": 2, \"c\": 3}\n",
            "swapped_dict = swap_dict(my_dict)\n",
            "print(f\"Original: {my_dict}, Swapped: {swapped_dict}\")\n",
            "\n",
            "\n",
            "my_dict_with_duplicates = {\"a\":1, \"b\":2, \"c\":1}\n",
            "swapped_dict = swap_dict(my_dict_with_duplicates)\n",
            "print(f\"Original: {my_dict_with_duplicates}, Swapped: {swapped_dict}\")\n",
            "\n",
            "\n",
            "my_dict_with_unhashable = {\"a\": 1, \"b\": [1,2]}\n",
            "swapped_dict = swap_dict(my_dict_with_unhashable)\n",
            "print(f\"Original: {my_dict_with_unhashable}, Swapped: {swapped_dict}\")\n",
            "\n",
            "\n",
            "```\n",
            "\n",
            "This improved version is more robust, functional (doesn't modify the original dictionary), and provides informative error messages. The use of  `try-except` blocks makes it resilient to various input conditions.  The function explicitly states its limitations and how it handles them which is crucial for production-ready code.\n",
            "\n"
          ]
        }
      ]
    }
  ]
}